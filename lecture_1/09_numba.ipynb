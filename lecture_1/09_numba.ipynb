{
 "cells": [
  {
   "cell_type": "markdown",
   "id": "95ac03fc",
   "metadata": {},
   "source": [
    "# Numba\n",
    "\n",
    "In addition to what's in Anaconda, this lecture will need the following libraries:"
   ]
  },
  {
   "cell_type": "code",
   "execution_count": null,
   "id": "2475f049",
   "metadata": {},
   "outputs": [],
   "source": [
    "!conda install -y quantecon"
   ]
  },
  {
   "cell_type": "code",
   "execution_count": null,
   "id": "8204c894",
   "metadata": {},
   "outputs": [],
   "source": [
    "%matplotlib inline\n",
    "import numpy as np\n",
    "import quantecon as qe\n",
    "import matplotlib.pyplot as plt"
   ]
  },
  {
   "cell_type": "markdown",
   "id": "b7956c5a",
   "metadata": {},
   "source": [
    "## Overview\n",
    "\n",
    "In an earlier lecture we learned about vectorization, which is one method to improve speed and efficiency in numerical work.\n",
    "\n",
    "Vectorization involves sending array processing operations in batch to efficient low-level code.\n",
    "\n",
    "However, vectorization has several weaknesses.\n",
    "\n",
    "One is that it is highly memory-intensive when working with large amounts of data.\n",
    "\n",
    "Another is that the set of algorithms that can be entirely vectorized is not universal.\n",
    "\n",
    "In fact, for some algorithms, vectorization is ineffective.\n",
    "\n",
    "Fortunately, a Python library called [Numba](http://numba.pydata.org/) solves many of these problems.\n",
    "\n",
    "It does so through something called **just in time (JIT) compilation**.\n",
    "\n",
    "The key idea is to compile functions to native machine code instructions on the fly.\n",
    "\n",
    "When it succeeds, the compiled code is extremely fast.\n",
    "\n",
    "This lecture introduces the main ideas.\n",
    "\n",
    "\n",
    "## Applications\n",
    "\n",
    "As stated above, Numba's primary use is compiling functions to fast native\n",
    "machine code during runtime.\n",
    "\n",
    "### An Example\n",
    "\n",
    "Let's consider a problem that is difficult to vectorize: generating the trajectory of a difference equation given an initial condition.\n",
    "\n",
    "We will take the difference equation to be the quadratic map\n",
    "\n",
    "$$\n",
    "x_{t+1} = \\alpha x_t (1 - x_t)\n",
    "$$\n",
    "\n",
    "In what follows we set"
   ]
  },
  {
   "cell_type": "code",
   "execution_count": null,
   "id": "845312ea",
   "metadata": {},
   "outputs": [],
   "source": [
    "α = 4.0"
   ]
  },
  {
   "cell_type": "markdown",
   "id": "94ff9c3a",
   "metadata": {},
   "source": [
    "Here's the plot of a typical trajectory, starting from $x_0 = 0.1$, with $t$ on the x-axis"
   ]
  },
  {
   "cell_type": "code",
   "execution_count": null,
   "id": "7e5b1300",
   "metadata": {},
   "outputs": [],
   "source": [
    "def qm(x0, n):\n",
    "    x = np.empty(n+1)\n",
    "    x[0] = x0\n",
    "    for t in range(n):\n",
    "      x[t+1] = α * x[t] * (1 - x[t])\n",
    "    return x\n",
    "\n",
    "x = qm(0.1, 250)\n",
    "fig, ax = plt.subplots()\n",
    "ax.plot(x, 'b-', lw=2, alpha=0.8)\n",
    "ax.set_xlabel('$t$', fontsize=12)\n",
    "ax.set_ylabel('$x_{t}$', fontsize = 12)\n",
    "plt.show()"
   ]
  },
  {
   "cell_type": "markdown",
   "id": "ef4a88ec",
   "metadata": {},
   "source": [
    "To speed the function `qm` up using Numba, our first step is"
   ]
  },
  {
   "cell_type": "code",
   "execution_count": null,
   "id": "8a0ebdbd",
   "metadata": {},
   "outputs": [],
   "source": [
    "from numba import jit\n",
    "\n",
    "qm_numba = jit(qm)"
   ]
  },
  {
   "cell_type": "markdown",
   "id": "c170c901",
   "metadata": {},
   "source": [
    "The function `qm_numba` is a version of `qm` that is \"targeted\" for\n",
    "JIT-compilation.\n",
    "\n",
    "Let's time and compare identical function calls across these two versions, starting with the original function `qm`:"
   ]
  },
  {
   "cell_type": "code",
   "execution_count": null,
   "id": "ac7b73a1",
   "metadata": {},
   "outputs": [],
   "source": [
    "n = 10_000_000\n",
    "\n",
    "qe.tic()\n",
    "qm(0.1, int(n))\n",
    "time1 = qe.toc()"
   ]
  },
  {
   "cell_type": "markdown",
   "id": "86889435",
   "metadata": {},
   "source": [
    "Now let's try qm_numba"
   ]
  },
  {
   "cell_type": "code",
   "execution_count": null,
   "id": "8dc8791b",
   "metadata": {},
   "outputs": [],
   "source": [
    "qe.tic()\n",
    "qm_numba(0.1, int(n))\n",
    "time2 = qe.toc()"
   ]
  },
  {
   "cell_type": "markdown",
   "id": "445c87a2",
   "metadata": {},
   "source": [
    "This is already a massive speed gain.\n",
    "\n",
    "In fact, the next time and all subsequent times it runs even faster as the function has been compiled and is in memory:\n",
    "\n",
    "(qm_numba_result)="
   ]
  },
  {
   "cell_type": "code",
   "execution_count": null,
   "id": "933c1553",
   "metadata": {},
   "outputs": [],
   "source": [
    "qe.tic()\n",
    "qm_numba(0.1, int(n))\n",
    "time3 = qe.toc()"
   ]
  },
  {
   "cell_type": "code",
   "execution_count": null,
   "id": "0398b2f0",
   "metadata": {},
   "outputs": [],
   "source": [
    "time1 / time3  # Calculate speed gain"
   ]
  },
  {
   "cell_type": "markdown",
   "id": "03a8443d",
   "metadata": {},
   "source": [
    "This kind of speed gain is huge relative to how simple and clear the implementation is.\n",
    "\n",
    "\n",
    "### How and When it Works\n",
    "\n",
    "Numba attempts to generate fast machine code using the infrastructure provided by the [LLVM Project](http://llvm.org/).\n",
    "\n",
    "It does this by inferring type information on the fly.\n",
    "\n",
    "The basic idea is this:\n",
    "\n",
    "* Python is very flexible and hence we could call the function qm with many\n",
    "  types.\n",
    "    * e.g., `x0` could be a NumPy array or a list, `n` could be an integer or a float, etc.\n",
    "* This makes it hard to *pre*-compile the function.\n",
    "* However, when we do actually call the function, say by executing `qm(0.5, 10)`,\n",
    "  the types of `x0` and `n` become clear.\n",
    "* Moreover, the types of other variables in `qm` can be inferred once the input is known.\n",
    "* So the strategy of Numba and other JIT compilers is to wait until this\n",
    "  moment, and *then* compile the function.\n",
    "\n",
    "That's why it is called \"just-in-time\" compilation.\n",
    "\n",
    "Note that, if you make the call `qm(0.5, 10)` and then follow it with `qm(0.9, 20)`, compilation only takes place on the first call.\n",
    "\n",
    "The compiled code is then cached and recycled as required.\n",
    "\n",
    "## Decorators and \"nopython\" Mode\n",
    "\n",
    "In the code above we created a JIT compiled version of `qm` via the call"
   ]
  },
  {
   "cell_type": "code",
   "execution_count": null,
   "id": "e6d2da12",
   "metadata": {},
   "outputs": [],
   "source": [
    "qm_numba = jit(qm)"
   ]
  },
  {
   "cell_type": "markdown",
   "id": "ed321659",
   "metadata": {},
   "source": [
    "In practice this would typically be done using an alternative *decorator* syntax.\n",
    "\n",
    "(We will explain all about decorators in a {doc}`later lecture <python_advanced_features>` but you can skip the details at this stage.)\n",
    "\n",
    "Let's see how this is done.\n",
    "\n",
    "### Decorator Notation\n",
    "\n",
    "To target a function for JIT compilation we can put `@jit` before the function definition.\n",
    "\n",
    "Here's what this looks like for `qm`"
   ]
  },
  {
   "cell_type": "code",
   "execution_count": null,
   "id": "9744ed6e",
   "metadata": {},
   "outputs": [],
   "source": [
    "@jit\n",
    "def qm(x0, n):\n",
    "    x = np.empty(n+1)\n",
    "    x[0] = x0\n",
    "    for t in range(n):\n",
    "        x[t+1] = α * x[t] * (1 - x[t])\n",
    "    return x"
   ]
  },
  {
   "cell_type": "markdown",
   "id": "dbd9c76e",
   "metadata": {},
   "source": [
    "This is equivalent to `qm = jit(qm)`.\n",
    "\n",
    "The following now uses the jitted version:"
   ]
  },
  {
   "cell_type": "code",
   "execution_count": null,
   "id": "e48f2089",
   "metadata": {},
   "outputs": [],
   "source": [
    "qm(0.1, 10)"
   ]
  },
  {
   "cell_type": "markdown",
   "id": "efe1423a",
   "metadata": {},
   "source": [
    "### Type Inference and \"nopython\" Mode\n",
    "\n",
    "Clearly type inference is a key part of JIT compilation.\n",
    "\n",
    "As you can imagine, inferring types is easier for simple Python objects (e.g., simple scalar data types such as floats and integers).\n",
    "\n",
    "Numba also plays well with NumPy arrays.\n",
    "\n",
    "In an ideal setting, Numba can infer all necessary type information.\n",
    "\n",
    "This allows it to generate native machine code, without having to call the Python runtime environment.\n",
    "\n",
    "In such a setting, Numba will be on par with machine code from low-level languages.\n",
    "\n",
    "When Numba cannot infer all type information, some Python objects are given generic object status and execution falls back to the Python runtime.\n",
    "\n",
    "When this happens, Numba provides only minor speed gains or none at all.\n",
    "\n",
    "We generally prefer to force an error when this occurs, so we know effective\n",
    "compilation is failing.\n",
    "\n",
    "This is done by using either `@jit(nopython=True)` or, equivalently, `@njit` instead of `@jit`.\n",
    "\n",
    "For example,"
   ]
  },
  {
   "cell_type": "code",
   "execution_count": null,
   "id": "8be4ba2d",
   "metadata": {},
   "outputs": [],
   "source": [
    "from numba import njit\n",
    "\n",
    "@njit\n",
    "def qm(x0, n):\n",
    "    x = np.empty(n+1)\n",
    "    x[0] = x0\n",
    "    for t in range(n):\n",
    "        x[t+1] = 4 * x[t] * (1 - x[t])\n",
    "    return x"
   ]
  },
  {
   "cell_type": "markdown",
   "id": "3b4ce47e",
   "metadata": {},
   "source": [
    "## Ex. 1\n",
    "\n",
    "Previously we considered how to approximate $\\pi$ by\n",
    "Monte Carlo.\n",
    "\n",
    "```{code-cell python3}\n",
    "from random import uniform\n",
    "\n",
    "def calculate_pi(n=1_000_000):\n",
    "    count = 0\n",
    "    for i in range(n):\n",
    "        u, v = uniform(0, 1), uniform(0, 1)\n",
    "        d = np.sqrt((u - 0.5)**2 + (v - 0.5)**2)\n",
    "        if d < 0.5:\n",
    "            count += 1\n",
    "\n",
    "    area_estimate = count / n\n",
    "    return area_estimate * 4  # dividing by radius**2\n",
    "```\n",
    "\n",
    "Make the code efficient using Numba.\n",
    "\n",
    "Compare speed with and without Numba when the sample size is large."
   ]
  }
 ],
 "metadata": {
  "kernelspec": {
   "display_name": "Python 3",
   "language": "python",
   "name": "python3"
  }
 },
 "nbformat": 4,
 "nbformat_minor": 5
}
