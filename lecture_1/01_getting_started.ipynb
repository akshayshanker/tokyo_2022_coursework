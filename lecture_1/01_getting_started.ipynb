{
 "cells": [
  {
   "cell_type": "markdown",
   "id": "d30b1cd1",
   "metadata": {},
   "source": [
    "# Setting up Your Python Environment\n",
    "\n",
    "Aims\n",
    "\n",
    "1. get a Python environment up and running\n",
    "1. execute simple Python commands\n",
    "1. run a sample program\n",
    "1. install the code libraries that underpin these lectures\n",
    "\n",
    "## Anaconda\n",
    "\n",
    "The [core Python package](https://www.python.org/downloads/) is easy to install but *not* what you should choose for these lectures.\n",
    "\n",
    "These lectures require the entire scientific programming ecosystem, which\n",
    "\n",
    "* the core installation doesn't provide\n",
    "* is painful to install one piece at a time.\n",
    "\n",
    "Hence the best approach for our purposes is to install a Python distribution that contains\n",
    "\n",
    "1. the core Python language **and**\n",
    "1. compatible versions of the most popular scientific libraries.\n",
    "\n",
    "The best such distribution is \n",
    "\n",
    "Anaconda is\n",
    "\n",
    "* very popular\n",
    "* cross-platform\n",
    "* comprehensive\n",
    "* completely unrelated to the [Nicki Minaj song of the same name](????)\n",
    "\n",
    "Anaconda also comes with a great package management system to organize your code libraries."
   ]
  },
  {
   "cell_type": "markdown",
   "id": "675e49e4",
   "metadata": {},
   "source": [
    "### Installing Anaconda\n",
    "\n",
    "To install Anaconda, [download](https://www.anaconda.com/download/) the binary and follow the instructions.\n",
    "\n",
    "Important points:\n",
    "\n",
    "* Install the latest version!\n",
    "* If you are asked during the installation process whether you'd like to make Anaconda your default Python installation, say yes."
   ]
  },
  {
   "cell_type": "markdown",
   "id": "131c79a5",
   "metadata": {},
   "source": [
    "## Jupyter Notebooks "
   ]
  },
  {
   "cell_type": "markdown",
   "id": "39ee4445",
   "metadata": {},
   "source": [
    "[Jupyter](http://jupyter.org/) notebooks are one of the many possible ways to interact with Python and the scientific libraries.\n",
    "\n",
    "They use  a *browser-based* interface to Python with\n",
    "\n",
    "* The ability to write and execute Python commands.\n",
    "* Formatted output in the browser, including tables, figures, animation, etc.\n",
    "* The option to mix in formatted text and mathematical expressions."
   ]
  },
  {
   "cell_type": "markdown",
   "id": "7b1076fe",
   "metadata": {},
   "source": [
    "While Jupyter isn't the only way to code in Python, it's great for when you wish to\n",
    "\n",
    "* start coding in Python\n",
    "* test new ideas or interact with small pieces of code\n",
    "* share or collaborate scientific ideas with students or colleagues"
   ]
  },
  {
   "cell_type": "markdown",
   "id": "7fa5736d",
   "metadata": {},
   "source": [
    "### Starting the Jupyter Notebook"
   ]
  },
  {
   "cell_type": "markdown",
   "id": "5d91410a",
   "metadata": {},
   "source": [
    "* search for Jupyter in your applications menu, or\n",
    "* open up a terminal and type `jupyter notebook`"
   ]
  },
  {
   "cell_type": "markdown",
   "id": "66ec11bc",
   "metadata": {},
   "source": [
    "Let's now cover some basics:"
   ]
  },
  {
   "cell_type": "markdown",
   "id": "24d83971",
   "metadata": {},
   "source": [
    "* Running Cells\n",
    "* Modal Editing\n",
    "* Inserting Unicode \n",
    "* Tab Completion\n",
    "* On-Line Help\n",
    "* Adding rich text and LaTeX\n",
    "* Installing Libraries\n",
    "<!-- #endregion -->"
   ]
  }
 ],
 "metadata": {
  "kernelspec": {
   "display_name": "Python 3 (ipykernel)",
   "language": "python",
   "name": "python3"
  },
  "language_info": {
   "codemirror_mode": {
    "name": "ipython",
    "version": 3
   },
   "file_extension": ".py",
   "mimetype": "text/x-python",
   "name": "python",
   "nbconvert_exporter": "python",
   "pygments_lexer": "ipython3",
   "version": "3.9.7"
  }
 },
 "nbformat": 4,
 "nbformat_minor": 5
}
